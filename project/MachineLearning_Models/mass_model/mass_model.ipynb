{
 "cells": [
  {
   "attachments": {},
   "cell_type": "markdown",
   "metadata": {},
   "source": [
    "# Import Libraries"
   ]
  },
  {
   "cell_type": "code",
   "execution_count": 1,
   "metadata": {},
   "outputs": [],
   "source": [
    "# import libraries\n",
    "\n",
    "# main\n",
    "import numpy as np\n",
    "import matplotlib.pyplot as plt\n",
    "plt.rcParams['text.usetex'] = True\n",
    "plt.rcParams['font.size'] = 28\n",
    "import pandas as pd\n",
    "import seaborn as sns\n",
    "import time\n",
    "\n",
    "# pre-processing\n",
    "from sklearn.preprocessing import StandardScaler\n",
    "from sklearn.model_selection import train_test_split\n",
    "\n",
    "# grid-search\n",
    "from sklearn.model_selection import KFold\n",
    "from sklearn.model_selection import GridSearchCV, RandomizedSearchCV\n",
    "from sklearn.pipeline import make_pipeline\n",
    "from sklearn.pipeline import Pipeline\n",
    "from sklearn.model_selection import cross_val_score\n",
    "\n",
    "# machine learning models\n",
    "from sklearn.multioutput import MultiOutputRegressor\n",
    "from sklearn.linear_model import LinearRegression\n",
    "from sklearn.ensemble import RandomForestRegressor\n",
    "from sklearn.ensemble import GradientBoostingRegressor\n",
    "#import xgboost as xgb\n",
    "#from xgboost.sklearn import XGBRegressor\n",
    "from sklearn.svm import SVR\n",
    "from sklearn.neural_network import MLPRegressor\n",
    "\n",
    "#import skorch\n",
    "#from skorch import NeuralNetRegressor\n",
    "import torch\n",
    "import torch.nn as nn\n",
    "import torch.optim as optim\n",
    "import torch.nn.functional as F\n",
    "#from skorch.callbacks import LRScheduler\n",
    "from torch.optim.lr_scheduler import StepLR\n",
    "\n",
    "# dimensionality reduction\n",
    "from sklearn.decomposition import PCA\n",
    "#from yellowbrick.model_selection import FeatureImportances\n",
    "\n",
    "# evaluation metrics\n",
    "from sklearn import tree\n",
    "from sklearn.metrics import mean_squared_error, mean_absolute_error, r2_score\n",
    "\n",
    "import warnings # supress warnings\n",
    "warnings.filterwarnings('ignore')\n",
    "\n",
    "from sklearn import set_config\n",
    "set_config(transform_output=\"pandas\")\n",
    "\n",
    "sns.set_theme(style='darkgrid')\n",
    "\n",
    "# Deep learning\n",
    "import torch\n",
    "import torch.nn as nn\n",
    "import torch.optim as optim\n",
    "import optuna\n",
    "\n",
    "import warnings\n",
    "warnings.filterwarnings('ignore')\n",
    "\n",
    "import matplotlib as mpl\n",
    "mpl.rcParams['text.usetex'] = False\n"
   ]
  },
  {
   "cell_type": "code",
   "execution_count": 2,
   "metadata": {},
   "outputs": [],
   "source": [
    "# Set the default text font size\n",
    "plt.rc('font', size=18)\n",
    "# Set the axes title font size\n",
    "plt.rc('axes', titlesize=16)\n",
    "# Set the axes labels font size\n",
    "plt.rc('axes', labelsize=16)\n",
    "# Set the font size for x tick labels\n",
    "plt.rc('xtick', labelsize=14)\n",
    "# Set the font size for y tick labels\n",
    "plt.rc('ytick', labelsize=14)\n",
    "# Set the legend font size\n",
    "plt.rc('legend', fontsize=14)\n",
    "# Set the font size of the figure title\n",
    "plt.rc('figure', titlesize=18)\n",
    "\n",
    "font = {'family' : 'Cambria',\n",
    "        'weight' : 'normal'}\n",
    "plt.rc('font', **font)"
   ]
  },
  {
   "attachments": {},
   "cell_type": "markdown",
   "metadata": {},
   "source": [
    "# Data pre-processing"
   ]
  },
  {
   "cell_type": "code",
   "execution_count": 3,
   "metadata": {},
   "outputs": [],
   "source": [
    "df   = pd.read_csv(\"combined_last.csv\", sep=\",\")   # the file uses “;” as separator\n",
    "df = df[df[\"Mach\"] == 0.15]                      # keep only Mach = 0.15 rows"
   ]
  },
  {
   "cell_type": "code",
   "execution_count": 4,
   "metadata": {},
   "outputs": [
    {
     "name": "stdout",
     "output_type": "stream",
     "text": [
      "<class 'pandas.core.frame.DataFrame'>\n",
      "RangeIndex: 150 entries, 0 to 149\n",
      "Data columns (total 7 columns):\n",
      " #   Column             Non-Null Count  Dtype  \n",
      "---  ------             --------------  -----  \n",
      " 0   Mach               150 non-null    float64\n",
      " 1   YoungsModulus3     150 non-null    float64\n",
      " 2   Density1           150 non-null    float64\n",
      " 3   Density3           150 non-null    float64\n",
      " 4   Flutter Speed      150 non-null    float64\n",
      " 5   Mass               150 non-null    float64\n",
      " 6   Flutter Frequency  150 non-null    float64\n",
      "dtypes: float64(7)\n",
      "memory usage: 8.3 KB\n"
     ]
    }
   ],
   "source": [
    "df.info()"
   ]
  },
  {
   "cell_type": "code",
   "execution_count": 5,
   "metadata": {},
   "outputs": [
    {
     "data": {
      "application/vnd.microsoft.datawrangler.viewer.v0+json": {
       "columns": [
        {
         "name": "index",
         "rawType": "object",
         "type": "string"
        },
        {
         "name": "Mach",
         "rawType": "float64",
         "type": "float"
        },
        {
         "name": "YoungsModulus3",
         "rawType": "float64",
         "type": "float"
        },
        {
         "name": "Density1",
         "rawType": "float64",
         "type": "float"
        },
        {
         "name": "Density3",
         "rawType": "float64",
         "type": "float"
        },
        {
         "name": "Flutter Speed",
         "rawType": "float64",
         "type": "float"
        },
        {
         "name": "Mass",
         "rawType": "float64",
         "type": "float"
        },
        {
         "name": "Flutter Frequency",
         "rawType": "float64",
         "type": "float"
        }
       ],
       "ref": "d86b59e4-b164-4592-968b-5bc9482a8e36",
       "rows": [
        [
         "count",
         "150.0",
         "150.0",
         "150.0",
         "150.0",
         "150.0",
         "150.0",
         "150.0"
        ],
        [
         "mean",
         "0.15",
         "70892283464.56696",
         "929.4268200000001",
         "2794.2741933333336",
         "67.51629524322551",
         "0.35646511533333336",
         "34.59100040273632"
        ],
        [
         "std",
         "2.227884750318713e-16",
         "5250291260.83493",
         "46.84669621867658",
         "87.5945398676584",
         "2.409609644171832",
         "0.009080670730022024",
         "1.2786434254708705"
        ],
        [
         "min",
         "0.15",
         "62000000000.0",
         "850.0",
         "2645.0",
         "63.20017851890447",
         "0.3347787",
         "32.08989459537989"
        ],
        [
         "25%",
         "0.15",
         "66429133858.268",
         "889.00025",
         "2718.54875",
         "65.46713125640306",
         "0.35031085",
         "33.547514293579184"
        ],
        [
         "50%",
         "0.15",
         "71000000000.0",
         "929.3335",
         "2793.7905",
         "67.61429486649516",
         "0.35626665",
         "34.47521511286921"
        ],
        [
         "75%",
         "0.15",
         "75429133858.26776",
         "969.66675",
         "2869.39525",
         "69.55109303293983",
         "0.362871025",
         "35.550819096238875"
        ],
        [
         "max",
         "0.15",
         "80000000000.0",
         "1010.0",
         "2945.0",
         "71.87732257425844",
         "0.3759075",
         "37.36534966966848"
        ]
       ],
       "shape": {
        "columns": 7,
        "rows": 8
       }
      },
      "text/html": [
       "<div>\n",
       "<style scoped>\n",
       "    .dataframe tbody tr th:only-of-type {\n",
       "        vertical-align: middle;\n",
       "    }\n",
       "\n",
       "    .dataframe tbody tr th {\n",
       "        vertical-align: top;\n",
       "    }\n",
       "\n",
       "    .dataframe thead th {\n",
       "        text-align: right;\n",
       "    }\n",
       "</style>\n",
       "<table border=\"1\" class=\"dataframe\">\n",
       "  <thead>\n",
       "    <tr style=\"text-align: right;\">\n",
       "      <th></th>\n",
       "      <th>Mach</th>\n",
       "      <th>YoungsModulus3</th>\n",
       "      <th>Density1</th>\n",
       "      <th>Density3</th>\n",
       "      <th>Flutter Speed</th>\n",
       "      <th>Mass</th>\n",
       "      <th>Flutter Frequency</th>\n",
       "    </tr>\n",
       "  </thead>\n",
       "  <tbody>\n",
       "    <tr>\n",
       "      <th>count</th>\n",
       "      <td>1.500000e+02</td>\n",
       "      <td>1.500000e+02</td>\n",
       "      <td>150.000000</td>\n",
       "      <td>150.000000</td>\n",
       "      <td>150.000000</td>\n",
       "      <td>150.000000</td>\n",
       "      <td>150.000000</td>\n",
       "    </tr>\n",
       "    <tr>\n",
       "      <th>mean</th>\n",
       "      <td>1.500000e-01</td>\n",
       "      <td>7.089228e+10</td>\n",
       "      <td>929.426820</td>\n",
       "      <td>2794.274193</td>\n",
       "      <td>67.516295</td>\n",
       "      <td>0.356465</td>\n",
       "      <td>34.591000</td>\n",
       "    </tr>\n",
       "    <tr>\n",
       "      <th>std</th>\n",
       "      <td>2.227885e-16</td>\n",
       "      <td>5.250291e+09</td>\n",
       "      <td>46.846696</td>\n",
       "      <td>87.594540</td>\n",
       "      <td>2.409610</td>\n",
       "      <td>0.009081</td>\n",
       "      <td>1.278643</td>\n",
       "    </tr>\n",
       "    <tr>\n",
       "      <th>min</th>\n",
       "      <td>1.500000e-01</td>\n",
       "      <td>6.200000e+10</td>\n",
       "      <td>850.000000</td>\n",
       "      <td>2645.000000</td>\n",
       "      <td>63.200179</td>\n",
       "      <td>0.334779</td>\n",
       "      <td>32.089895</td>\n",
       "    </tr>\n",
       "    <tr>\n",
       "      <th>25%</th>\n",
       "      <td>1.500000e-01</td>\n",
       "      <td>6.642913e+10</td>\n",
       "      <td>889.000250</td>\n",
       "      <td>2718.548750</td>\n",
       "      <td>65.467131</td>\n",
       "      <td>0.350311</td>\n",
       "      <td>33.547514</td>\n",
       "    </tr>\n",
       "    <tr>\n",
       "      <th>50%</th>\n",
       "      <td>1.500000e-01</td>\n",
       "      <td>7.100000e+10</td>\n",
       "      <td>929.333500</td>\n",
       "      <td>2793.790500</td>\n",
       "      <td>67.614295</td>\n",
       "      <td>0.356267</td>\n",
       "      <td>34.475215</td>\n",
       "    </tr>\n",
       "    <tr>\n",
       "      <th>75%</th>\n",
       "      <td>1.500000e-01</td>\n",
       "      <td>7.542913e+10</td>\n",
       "      <td>969.666750</td>\n",
       "      <td>2869.395250</td>\n",
       "      <td>69.551093</td>\n",
       "      <td>0.362871</td>\n",
       "      <td>35.550819</td>\n",
       "    </tr>\n",
       "    <tr>\n",
       "      <th>max</th>\n",
       "      <td>1.500000e-01</td>\n",
       "      <td>8.000000e+10</td>\n",
       "      <td>1010.000000</td>\n",
       "      <td>2945.000000</td>\n",
       "      <td>71.877323</td>\n",
       "      <td>0.375908</td>\n",
       "      <td>37.365350</td>\n",
       "    </tr>\n",
       "  </tbody>\n",
       "</table>\n",
       "</div>"
      ],
      "text/plain": [
       "               Mach  YoungsModulus3     Density1     Density3  Flutter Speed  \\\n",
       "count  1.500000e+02    1.500000e+02   150.000000   150.000000     150.000000   \n",
       "mean   1.500000e-01    7.089228e+10   929.426820  2794.274193      67.516295   \n",
       "std    2.227885e-16    5.250291e+09    46.846696    87.594540       2.409610   \n",
       "min    1.500000e-01    6.200000e+10   850.000000  2645.000000      63.200179   \n",
       "25%    1.500000e-01    6.642913e+10   889.000250  2718.548750      65.467131   \n",
       "50%    1.500000e-01    7.100000e+10   929.333500  2793.790500      67.614295   \n",
       "75%    1.500000e-01    7.542913e+10   969.666750  2869.395250      69.551093   \n",
       "max    1.500000e-01    8.000000e+10  1010.000000  2945.000000      71.877323   \n",
       "\n",
       "             Mass  Flutter Frequency  \n",
       "count  150.000000         150.000000  \n",
       "mean     0.356465          34.591000  \n",
       "std      0.009081           1.278643  \n",
       "min      0.334779          32.089895  \n",
       "25%      0.350311          33.547514  \n",
       "50%      0.356267          34.475215  \n",
       "75%      0.362871          35.550819  \n",
       "max      0.375908          37.365350  "
      ]
     },
     "execution_count": 5,
     "metadata": {},
     "output_type": "execute_result"
    }
   ],
   "source": [
    "df.describe()"
   ]
  },
  {
   "cell_type": "code",
   "execution_count": 6,
   "metadata": {},
   "outputs": [
    {
     "name": "stdout",
     "output_type": "stream",
     "text": [
      "Input shape:  (150, 3)\n",
      "Output shape:  (150, 1)\n"
     ]
    }
   ],
   "source": [
    "# prepare X and y\n",
    "X = df[['YoungsModulus3','Density1','Density3']]\n",
    "y = df[['Mass']]\n",
    "\n",
    "# print\n",
    "print('Input shape: ', X.shape)\n",
    "print('Output shape: ', y.shape)"
   ]
  },
  {
   "cell_type": "code",
   "execution_count": 7,
   "metadata": {},
   "outputs": [],
   "source": [
    "\n",
    "# [0.8e9, 1.4e9],  # Range for Young's modulus 1\n",
    "# [0.35, 0.45],  # Range for Poisson's ratio 1\n",
    "# [870, 990],  # Range for density 1\n",
    "# [3.5e8, 6.0e8],  # Range for Young's modulus 2\n",
    "# [0.35, 0.45],  # Range for Poisson's ratio 2\n",
    "# [0.01, 0.05],    # Range for density 2\n",
    "# [5.5e10, 8.5e10],  # Range for Young's modulus 3\n",
    "# [0.30, 0.36],  # Range for Poisson's ratio 3\n",
    "# [2700, 2950],    # Range for density 3\n",
    "# [0.7e6, 1.3e6],  # Range for Young's modulus 4\n",
    "# [0.25, 0.35],  # Range for Poisson's ratio 4\n",
    "# [0.0005, 0.0015], # Range for density 4\n",
    "# [0.8e9, 1.4e9]   # Range for Young's modulus 5\n",
    "# [0.35, 0.45]   # Range for Poisson's ratio 5\n",
    "# [0.870, 0.990]   # Range for density 5"
   ]
  },
  {
   "cell_type": "code",
   "execution_count": 8,
   "metadata": {},
   "outputs": [
    {
     "name": "stdout",
     "output_type": "stream",
     "text": [
      "Original X shape: (150, 3)\n",
      "Cleaned X shape: (135, 3)\n",
      "Original y shape: (150, 1)\n",
      "Cleaned y shape: (135, 1)\n"
     ]
    }
   ],
   "source": [
    "from sklearn.ensemble import IsolationForest\n",
    "\n",
    "def clean_outliers(X, y, contamination=0.1):\n",
    "    # Combine X and y for outlier detection\n",
    "    data = pd.concat([X, y], axis=1)\n",
    "\n",
    "    # Fit the model\n",
    "    clf = IsolationForest(contamination=contamination, random_state=42)\n",
    "    clf.fit(data)\n",
    "\n",
    "    # Predict the outliers\n",
    "    y_pred = clf.predict(data)\n",
    "\n",
    "    # Filter the data\n",
    "    mask = y_pred != -1\n",
    "    X_clean = X[mask]\n",
    "    y_clean = y[mask]\n",
    "\n",
    "    return X_clean, y_clean\n",
    "\n",
    "# Clean outliers from X and y\n",
    "X_clean, y_clean = clean_outliers(X, y, contamination=0.1)\n",
    "\n",
    "print(f\"Original X shape: {X.shape}\")\n",
    "print(f\"Cleaned X shape: {X_clean.shape}\")\n",
    "print(f\"Original y shape: {y.shape}\")\n",
    "print(f\"Cleaned y shape: {y_clean.shape}\")"
   ]
  },
  {
   "cell_type": "code",
   "execution_count": 9,
   "metadata": {},
   "outputs": [
    {
     "data": {
      "image/png": "[encoded data removed]",
      "text/plain": [
       "<Figure size 1000x600 with 1 Axes>"
      ]
     },
     "metadata": {},
     "output_type": "display_data"
    }
   ],
   "source": [
    "# Plot box plot for the y output\n",
    "plt.figure(figsize=(10, 6))\n",
    "plt.boxplot(y, vert=False)\n",
    "plt.title('Box Plot of Output Data')\n",
    "plt.xlabel('Value')\n",
    "plt.ylabel('Output')\n",
    "plt.show()"
   ]
  },
  {
   "cell_type": "code",
   "execution_count": 10,
   "metadata": {},
   "outputs": [
    {
     "data": {
      "image/png": "[encoded data removed]",
      "text/plain": [
       "<Figure size 1000x600 with 1 Axes>"
      ]
     },
     "metadata": {},
     "output_type": "display_data"
    }
   ],
   "source": [
    "# Plot box plot for the y output\n",
    "plt.figure(figsize=(10, 6))\n",
    "plt.boxplot(y_clean, vert=False)\n",
    "plt.title('Box Plot of Cleaned Output Data')\n",
    "plt.xlabel('Value')\n",
    "plt.ylabel('Output')\n",
    "plt.show()"
   ]
  },
  {
   "cell_type": "code",
   "execution_count": 11,
   "metadata": {},
   "outputs": [],
   "source": [
    "X, y = X_clean, y_clean"
   ]
  },
  {
   "cell_type": "code",
   "execution_count": 12,
   "metadata": {},
   "outputs": [],
   "source": [
    "# import numpy as np\n",
    "# import pandas as pd\n",
    "# from sklearn.model_selection import train_test_split, GridSearchCV\n",
    "# from sklearn.preprocessing import MinMaxScaler\n",
    "# from sklearn.svm import SVR\n",
    "# from sklearn.multioutput import MultiOutputRegressor\n",
    "# from sklearn.pipeline import Pipeline\n",
    "# from sklearn.metrics import r2_score\n",
    "\n",
    "\n",
    "# # Split into train and test sets\n",
    "# X_train, X_test, y_train, y_test = train_test_split(X, y, test_size=0.2, random_state=42)\n",
    "\n",
    "# # Define the pipeline for the inputs\n",
    "# input_pipeline = Pipeline([\n",
    "#     ('scaler', MinMaxScaler())\n",
    "# ])\n",
    "\n",
    "# # Define the pipeline for the outputs\n",
    "# output_pipeline = Pipeline([\n",
    "#     ('scaler', MinMaxScaler())\n",
    "# ])\n",
    "\n",
    "# # Apply the transformations to the train and test data\n",
    "# X_train_scaled = input_pipeline.fit_transform(X_train)\n",
    "# X_test_scaled = input_pipeline.transform(X_test)\n",
    "\n",
    "# y_train_scaled = output_pipeline.fit_transform(y_train)\n",
    "# y_test_scaled = output_pipeline.transform(y_test)\n",
    "\n",
    "# # Define the model\n",
    "# svr = SVR()\n",
    "\n",
    "# # Define the parameter grid for GridSearchCV\n",
    "# param_grid = {\n",
    "#     'estimator__C': [100, 200, 300],\n",
    "#     'estimator__epsilon': [0.0001, 0.0004, 0.001],\n",
    "#     'estimator__gamma': [0.01, 0.1, 0.3, 0.5, 1]\n",
    "# }\n",
    "\n",
    "# # Wrap the SVR in a MultiOutputRegressor\n",
    "# multi_svr = MultiOutputRegressor(svr, n_jobs=1)\n",
    "\n",
    "# # Define GridSearchCV\n",
    "# grid_search = GridSearchCV(multi_svr, param_grid, cv=3, scoring='r2', verbose=2, n_jobs=-1)\n",
    "\n",
    "# # Fit the model using GridSearchCV\n",
    "# grid_search.fit(X_train_scaled, y_train_scaled)\n",
    "\n",
    "# # Get the best estimator from the grid search\n",
    "# best_model = grid_search.best_estimator_\n",
    "\n",
    "# # Predict on train and test sets\n",
    "# y_train_pred = best_model.predict(X_train_scaled)\n",
    "# y_test_pred = best_model.predict(X_test_scaled)\n",
    "\n",
    "# # Inverse transform the predictions and the true values for comparison\n",
    "# y_train_pred_inv = output_pipeline.inverse_transform(y_train_pred)\n",
    "# y_test_pred_inv = output_pipeline.inverse_transform(y_test_pred)\n",
    "# y_train_inv = output_pipeline.inverse_transform(y_train_scaled)\n",
    "# y_test_inv = output_pipeline.inverse_transform(y_test_scaled)\n",
    "\n",
    "# # Calculate R² scores\n",
    "# train_r2 = r2_score(y_train_inv, y_train_pred_inv)\n",
    "# test_r2 = r2_score(y_test_inv, y_test_pred_inv)\n",
    "\n",
    "# # Print the R² scores\n",
    "# print(f\"Train R² Score: {train_r2:.4f}\")\n",
    "# print(f\"Test R² Score: {test_r2:.4f}\")\n",
    "\n",
    "# # Print the best model parameters\n",
    "# print(\"Best model parameters:\")\n",
    "# print(grid_search.best_params_)\n"
   ]
  },
  {
   "cell_type": "code",
   "execution_count": 13,
   "metadata": {},
   "outputs": [],
   "source": [
    "# # Adjust the figure size as needed\n",
    "# plt.figure(figsize=(15, 10))\n",
    "\n",
    "# # Create the heatmap with adjusted annotation font size\n",
    "# heatmap = sns.heatmap(X_train.corr().round(2), vmin=-1, vmax=1, annot=True, cmap='viridis', annot_kws={\"size\": 12})\n",
    "\n",
    "# # Optional: Add labels, title, or save the figure\n",
    "# # plt.title('L3 AERO-STRUCTURAL BENCHMARK PROBLEM (3D) Train Dataset - Heatmap')\n",
    "# # plt.savefig('images/l3_3D_heatmap.png', dpi=200, bbox_inches='tight')\n",
    "\n",
    "# plt.show();"
   ]
  },
  {
   "cell_type": "code",
   "execution_count": 14,
   "metadata": {},
   "outputs": [
    {
     "name": "stderr",
     "output_type": "stream",
     "text": [
      "[I 2025-06-16 07:39:51,143] A new study created in memory with name: no-name-7ecf5189-36ac-4277-8ca5-7410121de793\n",
      "[I 2025-06-16 07:39:51,159] Trial 0 finished with value: 0.9160576828720248 and parameters: {'C': 60.960573761234286, 'epsilon': 0.13533424705124625, 'gamma': 0.024991354519022353}. Best is trial 0 with value: 0.9160576828720248.\n",
      "[I 2025-06-16 07:39:51,172] Trial 1 finished with value: 0.9987010672971514 and parameters: {'C': 71.42826413451512, 'epsilon': 0.008095774537006037, 'gamma': 2.5689437363989454}. Best is trial 1 with value: 0.9987010672971514.\n",
      "[I 2025-06-16 07:39:51,185] Trial 2 finished with value: -0.052220838518876045 and parameters: {'C': 0.1500471464838391, 'epsilon': 0.2638480693154041, 'gamma': 0.00020904618896840348}. Best is trial 1 with value: 0.9987010672971514.\n",
      "[I 2025-06-16 07:39:51,199] Trial 3 finished with value: 0.9999969465266648 and parameters: {'C': 276.1277881570187, 'epsilon': 0.0005794836517480774, 'gamma': 0.0008916166353894694}. Best is trial 3 with value: 0.9999969465266648.\n",
      "[I 2025-06-16 07:39:51,207] Trial 4 finished with value: 0.9712627676511771 and parameters: {'C': 0.6005426316397047, 'epsilon': 0.04581940123388065, 'gamma': 4.532278003814587}. Best is trial 3 with value: 0.9999969465266648.\n",
      "[I 2025-06-16 07:39:51,224] Trial 5 finished with value: 0.9994782078622761 and parameters: {'C': 3.6284988968088805, 'epsilon': 0.0006938309978179677, 'gamma': 5.841612155885825}. Best is trial 3 with value: 0.9999969465266648.\n",
      "[I 2025-06-16 07:39:51,240] Trial 6 finished with value: -0.03778979485425604 and parameters: {'C': 0.008510366166576128, 'epsilon': 0.02618447308451301, 'gamma': 0.0010632700110954777}. Best is trial 3 with value: 0.9999969465266648.\n",
      "[I 2025-06-16 07:39:51,249] Trial 7 finished with value: 0.9989603301912897 and parameters: {'C': 1.0761717798491799, 'epsilon': 0.000403957966743557, 'gamma': 0.01677157504100461}. Best is trial 3 with value: 0.9999969465266648.\n",
      "[I 2025-06-16 07:39:51,257] Trial 8 finished with value: -0.08325580814323841 and parameters: {'C': 367.90979961563795, 'epsilon': 7.16645550356033, 'gamma': 0.00040319647764545973}. Best is trial 3 with value: 0.9999969465266648.\n",
      "[I 2025-06-16 07:39:51,274] Trial 9 finished with value: -0.02478578745823312 and parameters: {'C': 0.00014001044293234565, 'epsilon': 0.0002305224107720505, 'gamma': 0.006467692278323777}. Best is trial 3 with value: 0.9999969465266648.\n",
      "[I 2025-06-16 07:39:51,340] Trial 10 finished with value: 0.9999076568140985 and parameters: {'C': 7203.522726634701, 'epsilon': 0.002757790964035832, 'gamma': 0.27523688260194173}. Best is trial 3 with value: 0.9999969465266648.\n",
      "[I 2025-06-16 07:39:51,365] Trial 11 finished with value: 0.9999297546403865 and parameters: {'C': 5296.529539268621, 'epsilon': 0.0024234977091578147, 'gamma': 0.2314757584697978}. Best is trial 3 with value: 0.9999969465266648.\n",
      "[I 2025-06-16 07:39:51,390] Trial 12 finished with value: 0.9999231702002084 and parameters: {'C': 9338.5748597671, 'epsilon': 0.0024246819192185296, 'gamma': 0.28707772744557364}. Best is trial 3 with value: 0.9999969465266648.\n",
      "[I 2025-06-16 07:39:51,424] Trial 13 finished with value: 0.9999967623328734 and parameters: {'C': 294.89060265669565, 'epsilon': 0.00012243936947470925, 'gamma': 0.23426333237891647}. Best is trial 3 with value: 0.9999969465266648.\n",
      "[I 2025-06-16 07:39:51,447] Trial 14 finished with value: 0.9999990686434128 and parameters: {'C': 232.4880826129262, 'epsilon': 0.00011726674703398622, 'gamma': 0.002346918952310914}. Best is trial 14 with value: 0.9999990686434128.\n",
      "[I 2025-06-16 07:39:51,472] Trial 15 finished with value: 0.9985744778105334 and parameters: {'C': 9.800072822764992, 'epsilon': 0.0007361189208738472, 'gamma': 0.0018172016875328944}. Best is trial 14 with value: 0.9999990686434128.\n",
      "[I 2025-06-16 07:39:51,495] Trial 16 finished with value: 0.9999999121519488 and parameters: {'C': 1049.58095838975, 'epsilon': 0.00013394787170935567, 'gamma': 0.00011708810777997416}. Best is trial 16 with value: 0.9999999121519488.\n",
      "[I 2025-06-16 07:39:51,513] Trial 17 finished with value: 0.9999996128844157 and parameters: {'C': 1625.3324815531496, 'epsilon': 0.00010238781244785166, 'gamma': 0.00010333909856068172}. Best is trial 16 with value: 0.9999999121519488.\n",
      "[I 2025-06-16 07:39:51,540] Trial 18 finished with value: -0.08325580814323841 and parameters: {'C': 1485.8646574182374, 'epsilon': 2.6762966757984197, 'gamma': 0.00011137306214563753}. Best is trial 16 with value: 0.9999999121519488.\n",
      "[I 2025-06-16 07:39:51,563] Trial 19 finished with value: 0.21223569004147014 and parameters: {'C': 18.940317835753245, 'epsilon': 0.009618947786221488, 'gamma': 0.000120741906714265}. Best is trial 16 with value: 0.9999999121519488.\n",
      "[I 2025-06-16 07:39:51,587] Trial 20 finished with value: -0.08325580814323841 and parameters: {'C': 0.03925927727300953, 'epsilon': 0.6005230176834311, 'gamma': 0.00038214200020725514}. Best is trial 16 with value: 0.9999999121519488.\n",
      "[I 2025-06-16 07:39:51,612] Trial 21 finished with value: 0.9999985401736391 and parameters: {'C': 1500.6465381192186, 'epsilon': 0.00010008879581956326, 'gamma': 0.003583754075050076}. Best is trial 16 with value: 0.9999999121519488.\n",
      "[I 2025-06-16 07:39:51,651] Trial 22 finished with value: 0.9999990898448883 and parameters: {'C': 57.06487167717293, 'epsilon': 0.00024301138627470123, 'gamma': 0.000455957786580732}. Best is trial 16 with value: 0.9999999121519488.\n",
      "[I 2025-06-16 07:39:51,675] Trial 23 finished with value: 0.9999852163811906 and parameters: {'C': 959.5269318370474, 'epsilon': 0.0013279346817870563, 'gamma': 0.00040994816454807627}. Best is trial 16 with value: 0.9999999121519488.\n",
      "[I 2025-06-16 07:39:51,692] Trial 24 finished with value: 0.7863565119746151 and parameters: {'C': 41.40072866642524, 'epsilon': 0.0002971981475655095, 'gamma': 0.0002414613874062926}. Best is trial 16 with value: 0.9999999121519488.\n",
      "[I 2025-06-16 07:39:51,727] Trial 25 finished with value: 0.9999993682251224 and parameters: {'C': 1913.9355643293488, 'epsilon': 0.0002238814143178032, 'gamma': 0.0007690654668584087}. Best is trial 16 with value: 0.9999999121519488.\n",
      "[I 2025-06-16 07:39:51,755] Trial 26 finished with value: 0.9997428491977783 and parameters: {'C': 1855.5000772843332, 'epsilon': 0.007573645469778348, 'gamma': 0.008983274377616325}. Best is trial 16 with value: 0.9999999121519488.\n",
      "[I 2025-06-16 07:39:51,772] Trial 27 finished with value: -0.024431589086346683 and parameters: {'C': 0.0007674495463518054, 'epsilon': 0.001059665176132377, 'gamma': 0.00010593481443876062}. Best is trial 16 with value: 0.9999999121519488.\n",
      "[I 2025-06-16 07:39:51,793] Trial 28 finished with value: 0.5894945150042759 and parameters: {'C': 6.530614372008798, 'epsilon': 0.00021735134681942307, 'gamma': 0.0010296699298010506}. Best is trial 16 with value: 0.9999999121519488.\n",
      "[I 2025-06-16 07:39:51,826] Trial 29 finished with value: 0.9999735888628742 and parameters: {'C': 2759.675897166169, 'epsilon': 0.0017353861759005264, 'gamma': 0.04725717782912281}. Best is trial 16 with value: 0.9999999121519488.\n",
      "[I 2025-06-16 07:39:51,842] Trial 30 finished with value: 0.9999093402583642 and parameters: {'C': 101.54035017010361, 'epsilon': 0.004209811330689362, 'gamma': 0.033421800852726696}. Best is trial 16 with value: 0.9999999121519488.\n",
      "[I 2025-06-16 07:39:51,878] Trial 31 finished with value: 0.9999988800624944 and parameters: {'C': 609.8414884583299, 'epsilon': 0.00026037485643624317, 'gamma': 0.0005636822900234306}. Best is trial 16 with value: 0.9999999121519488.\n",
      "[I 2025-06-16 07:39:51,909] Trial 32 finished with value: 0.9999997996535435 and parameters: {'C': 123.3279599322718, 'epsilon': 0.00010282477339571884, 'gamma': 0.00022093380004765373}. Best is trial 16 with value: 0.9999999121519488.\n",
      "[I 2025-06-16 07:39:51,933] Trial 33 finished with value: 0.9999991717968548 and parameters: {'C': 113.41727135454796, 'epsilon': 0.00010440647115096262, 'gamma': 0.00020114065017505276}. Best is trial 16 with value: 0.9999999121519488.\n",
      "[I 2025-06-16 07:39:51,956] Trial 34 finished with value: 0.9999977178651349 and parameters: {'C': 603.6673059704941, 'epsilon': 0.0004524694368581678, 'gamma': 0.0001972249067451763}. Best is trial 16 with value: 0.9999999121519488.\n",
      "[I 2025-06-16 07:39:51,972] Trial 35 finished with value: 0.982303379137111 and parameters: {'C': 21.42021795788115, 'epsilon': 0.00016171888433198818, 'gamma': 0.0007467404202561645}. Best is trial 16 with value: 0.9999999121519488.\n",
      "[I 2025-06-16 07:39:51,997] Trial 36 finished with value: 0.9999961231570395 and parameters: {'C': 3516.6667299811284, 'epsilon': 0.0005403259892863946, 'gamma': 0.0002310293526391708}. Best is trial 16 with value: 0.9999999121519488.\n",
      "[I 2025-06-16 07:39:52,022] Trial 37 finished with value: 0.9922088741959452 and parameters: {'C': 159.0876336300781, 'epsilon': 0.039355474606338, 'gamma': 0.0017788914277238976}. Best is trial 16 with value: 0.9999999121519488.\n",
      "[I 2025-06-16 07:39:52,042] Trial 38 finished with value: -0.03340938158794682 and parameters: {'C': 0.7916712115821631, 'epsilon': 0.2569597826867619, 'gamma': 0.0002000945028618865}. Best is trial 16 with value: 0.9999999121519488.\n",
      "[I 2025-06-16 07:39:52,071] Trial 39 finished with value: 0.9999673476864228 and parameters: {'C': 2.741218529270518, 'epsilon': 0.0008806355732814375, 'gamma': 0.8043697677746122}. Best is trial 16 with value: 0.9999999121519488.\n",
      "[I 2025-06-16 07:39:52,092] Trial 40 finished with value: -0.009145635843776034 and parameters: {'C': 0.11109837721811516, 'epsilon': 0.00036763784629212495, 'gamma': 0.001287990916704773}. Best is trial 16 with value: 0.9999999121519488.\n",
      "[I 2025-06-16 07:39:52,116] Trial 41 finished with value: 0.9999979068157827 and parameters: {'C': 112.55875702002444, 'epsilon': 0.00015377956659200524, 'gamma': 0.0002043523821900912}. Best is trial 16 with value: 0.9999999121519488.\n",
      "[I 2025-06-16 07:39:52,143] Trial 42 finished with value: 0.9999994742292057 and parameters: {'C': 637.19379801192, 'epsilon': 0.00010150121331019533, 'gamma': 0.00010924402409079624}. Best is trial 16 with value: 0.9999999121519488.\n",
      "[I 2025-06-16 07:39:52,159] Trial 43 finished with value: 0.9999978254507736 and parameters: {'C': 541.8542128341124, 'epsilon': 0.00039915427899267107, 'gamma': 0.00012603186207561716}. Best is trial 16 with value: 0.9999999121519488.\n",
      "[I 2025-06-16 07:39:52,189] Trial 44 finished with value: 0.9999997846331545 and parameters: {'C': 4167.964576137945, 'epsilon': 0.00015887733265637305, 'gamma': 0.0003670679241642642}. Best is trial 16 with value: 0.9999999121519488.\n",
      "[I 2025-06-16 07:39:52,205] Trial 45 finished with value: 0.9999998471866269 and parameters: {'C': 4893.253043699534, 'epsilon': 0.00017162477320827296, 'gamma': 0.00010079857982426551}. Best is trial 16 with value: 0.9999999121519488.\n",
      "[I 2025-06-16 07:39:52,238] Trial 46 finished with value: 0.9999946555767071 and parameters: {'C': 8507.409312681299, 'epsilon': 0.0005801882612510668, 'gamma': 0.0003152549639172003}. Best is trial 16 with value: 0.9999999121519488.\n",
      "[I 2025-06-16 07:39:52,261] Trial 47 finished with value: 0.9792966875447663 and parameters: {'C': 3284.116092009142, 'epsilon': 0.06655629614822109, 'gamma': 0.0005915409001834733}. Best is trial 16 with value: 0.9999999121519488.\n",
      "[I 2025-06-16 07:39:52,294] Trial 48 finished with value: 0.9999989943787319 and parameters: {'C': 9439.387947649857, 'epsilon': 0.0001642773848585294, 'gamma': 0.0003248233068197037}. Best is trial 16 with value: 0.9999999121519488.\n",
      "[I 2025-06-16 07:39:52,322] Trial 49 finished with value: 0.9968507150273925 and parameters: {'C': 273.85031863561534, 'epsilon': 0.01938706399725334, 'gamma': 0.00015929639854917965}. Best is trial 16 with value: 0.9999999121519488.\n"
     ]
    },
    {
     "name": "stdout",
     "output_type": "stream",
     "text": [
      "Best params → {'C': 1049.58095838975, 'epsilon': 0.00013394787170935567, 'gamma': 0.00011708810777997416}\n",
      "Train R²: 1.0000\n",
      "Test  R²: 1.0000\n"
     ]
    }
   ],
   "source": [
    "import numpy as np\n",
    "import pandas as pd\n",
    "import optuna\n",
    "from sklearn.model_selection import train_test_split\n",
    "from sklearn.preprocessing import MinMaxScaler\n",
    "from sklearn.svm import SVR\n",
    "from sklearn.pipeline import Pipeline\n",
    "from sklearn.compose import TransformedTargetRegressor\n",
    "from sklearn.metrics import r2_score\n",
    "\n",
    "# ------------------------------------------------------------------\n",
    "# 1) split data\n",
    "# ------------------------------------------------------------------\n",
    "X_train, X_test, y_train, y_test = train_test_split(\n",
    "    X, y.squeeze(),           # <-- make sure y is 1-D\n",
    "    test_size=0.20,\n",
    "    shuffle=True,\n",
    "    random_state=42\n",
    ")\n",
    "\n",
    "# ------------------------------------------------------------------\n",
    "# 2) helper that builds the end-to-end estimator\n",
    "#    (X-scaler → SVR)   + automatic y-scaler\n",
    "# ------------------------------------------------------------------\n",
    "def build_model(C, epsilon, gamma):\n",
    "    inner = Pipeline(\n",
    "        [\n",
    "            (\"x_scaler\", MinMaxScaler()),\n",
    "            (\"svr\", SVR(C=C, epsilon=epsilon, gamma=gamma)),\n",
    "        ]\n",
    "    )\n",
    "\n",
    "    # scales / inverse-scales the *target* transparently\n",
    "    return TransformedTargetRegressor(\n",
    "        regressor=inner,\n",
    "        transformer=MinMaxScaler()\n",
    "    )\n",
    "\n",
    "# ------------------------------------------------------------------\n",
    "# 3) Optuna objective\n",
    "# ------------------------------------------------------------------\n",
    "def objective(trial):\n",
    "    params = {\n",
    "        \"C\":       trial.suggest_loguniform(\"C\",       1e-4, 1e4),\n",
    "        \"epsilon\": trial.suggest_loguniform(\"epsilon\", 1e-4, 1e1),\n",
    "        \"gamma\":   trial.suggest_loguniform(\"gamma\",   1e-4, 1e1),\n",
    "    }\n",
    "\n",
    "    model = build_model(**params)\n",
    "    model.fit(X_train, y_train)          # scaled in / scaled out\n",
    "\n",
    "    y_pred = model.predict(X_test)\n",
    "    return r2_score(y_test, y_pred)\n",
    "\n",
    "# ------------------------------------------------------------------\n",
    "# 4) hyper-parameter search\n",
    "# ------------------------------------------------------------------\n",
    "study = optuna.create_study(direction=\"maximize\",\n",
    "                            sampler=optuna.samplers.TPESampler())\n",
    "study.optimize(objective, n_trials=50)\n",
    "print(\"Best params →\", study.best_params)\n",
    "\n",
    "# ------------------------------------------------------------------\n",
    "# 5) final fit & report\n",
    "# ------------------------------------------------------------------\n",
    "best_model = build_model(**study.best_params)\n",
    "best_model.fit(X_train, y_train)\n",
    "\n",
    "print(f\"Train R²: {r2_score(y_train, best_model.predict(X_train)):.4f}\")\n",
    "print(f\"Test  R²: {r2_score(y_test , best_model.predict(X_test )):.4f}\")\n",
    "\n"
   ]
  },
  {
   "cell_type": "code",
   "execution_count": 15,
   "metadata": {},
   "outputs": [
    {
     "data": {
      "image/png": "[encoded data removed]",
      "text/plain": [
       "<Figure size 800x600 with 1 Axes>"
      ]
     },
     "metadata": {},
     "output_type": "display_data"
    }
   ],
   "source": [
    "import matplotlib.pyplot as plt\n",
    "from sklearn.metrics import r2_score\n",
    "\n",
    "# predictions are already in original units with the new pipeline\n",
    "y_train_pred = best_model.predict(X_train)\n",
    "y_test_pred  = best_model.predict(X_test)\n",
    "\n",
    "# 1-to-1 reference line\n",
    "lims = [\n",
    "    min(y_train.min(), y_test.min(), y_train_pred.min(), y_test_pred.min()),\n",
    "    max(y_train.max(), y_test.max(), y_train_pred.max(), y_test_pred.max()),\n",
    "]\n",
    "\n",
    "plt.figure(figsize=(8, 6))\n",
    "plt.plot(lims, lims, \"k--\", alpha=0.7, label=\"Ideal\")\n",
    "\n",
    "plt.scatter(y_train, y_train_pred,  s=30, c=\"tab:blue\",   edgecolors=\"k\", label=\"Train\")\n",
    "plt.scatter(y_test , y_test_pred ,  s=30, c=\"tab:orange\", edgecolors=\"k\", label=\"Test\")\n",
    "\n",
    "plt.xlim(lims); plt.ylim(lims)\n",
    "plt.xlabel(\"True mass\")\n",
    "plt.ylabel(\"Predicted mass\")\n",
    "plt.title( \"Mass Model\")\n",
    "plt.legend(frameon=False)\n",
    "plt.tight_layout()\n",
    "plt.show()\n"
   ]
  },
  {
   "cell_type": "code",
   "execution_count": 16,
   "metadata": {},
   "outputs": [
    {
     "name": "stdout",
     "output_type": "stream",
     "text": [
      "Predicted mass: 0.3464789199986923\n"
     ]
    }
   ],
   "source": [
    "\n",
    "# ------------------------------------------------------------------\n",
    "# 6) example inference\n",
    "# ------------------------------------------------------------------\n",
    "query = pd.DataFrame(\n",
    "    {\n",
    "        \"YoungsModulus3\": [71070866141.732],\n",
    "        \"Density1\": [904.0],\n",
    "        \"Density3\": [2705.484],\n",
    "#        \"Density5\": [870]\n",
    "        # ...all other required columns in correct order...\n",
    "    }\n",
    ")\n",
    "print(\"Predicted mass:\", best_model.predict(query).item())"
   ]
  },
  {
   "cell_type": "code",
   "execution_count": 17,
   "metadata": {},
   "outputs": [
    {
     "data": {
      "text/plain": [
       "['mass_svr_pipeline.pkl']"
      ]
     },
     "execution_count": 17,
     "metadata": {},
     "output_type": "execute_result"
    }
   ],
   "source": [
    "import joblib\n",
    "\n",
    "# `best_model` is the single TransformedTargetRegressor that already\n",
    "# contains the X-scaler and the SVR inside.\n",
    "joblib.dump(best_model, \"mass_svr_pipeline.pkl\")\n",
    "\n",
    "# … later …\n",
    "# best_model = joblib.load(\"mass_svr_pipeline.pkl\")\n",
    "# y_hat      = best_model.predict(new_X)\n"
   ]
  }
 ],
 "metadata": {
  "kernelspec": {
   "display_name": "base",
   "language": "python",
   "name": "python3"
  },
  "language_info": {
   "codemirror_mode": {
    "name": "ipython",
    "version": 3
   },
   "file_extension": ".py",
   "mimetype": "text/x-python",
   "name": "python",
   "nbconvert_exporter": "python",
   "pygments_lexer": "ipython3",
   "version": "3.12.7"
  },
  "orig_nbformat": 4
 },
 "nbformat": 4,
 "nbformat_minor": 2
}
