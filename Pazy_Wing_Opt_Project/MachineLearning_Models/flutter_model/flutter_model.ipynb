{
 "cells": [
  {
   "attachments": {},
   "cell_type": "markdown",
   "metadata": {},
   "source": [
    "---\n",
    "\n",
    "Author      : Dilan Kilic (kilicd15@itu.edu.tr)  <br> \n",
    "Student ID  : 511211159  <br> \n",
    "created on  : 01.04.2023  <br> \n",
    "revised on  : 04.04.2023  <br> \n",
    "\n",
    "Description : This code is the implementation of L2 air dataset regression problem including the HPO using Optuna libraies.\n",
    "\n",
    "---"
   ]
  },
  {
   "attachments": {},
   "cell_type": "markdown",
   "metadata": {},
   "source": [
    "# Import Libraries"
   ]
  },
  {
   "cell_type": "code",
   "execution_count": 1,
   "metadata": {},
   "outputs": [],
   "source": [
    "# import libraries\n",
    "\n",
    "# main\n",
    "import numpy as np\n",
    "import matplotlib.pyplot as plt\n",
    "plt.rcParams['text.usetex'] = True\n",
    "plt.rcParams['font.size'] = 28\n",
    "import pandas as pd\n",
    "import seaborn as sns\n",
    "import time\n",
    "\n",
    "# pre-processing\n",
    "from sklearn.preprocessing import StandardScaler\n",
    "from sklearn.model_selection import train_test_split\n",
    "\n",
    "# grid-search\n",
    "from sklearn.model_selection import KFold\n",
    "from sklearn.model_selection import GridSearchCV, RandomizedSearchCV\n",
    "from sklearn.pipeline import make_pipeline\n",
    "from sklearn.pipeline import Pipeline\n",
    "from sklearn.model_selection import cross_val_score\n",
    "\n",
    "# machine learning models\n",
    "from sklearn.multioutput import MultiOutputRegressor\n",
    "from sklearn.linear_model import LinearRegression\n",
    "from sklearn.ensemble import RandomForestRegressor\n",
    "from sklearn.ensemble import GradientBoostingRegressor\n",
    "#import xgboost as xgb\n",
    "#from xgboost.sklearn import XGBRegressor\n",
    "from sklearn.svm import SVR\n",
    "from sklearn.neural_network import MLPRegressor\n",
    "\n",
    "#import skorch\n",
    "#from skorch import NeuralNetRegressor\n",
    "import torch\n",
    "import torch.nn as nn\n",
    "import torch.optim as optim\n",
    "import torch.nn.functional as F\n",
    "#from skorch.callbacks import LRScheduler\n",
    "from torch.optim.lr_scheduler import StepLR\n",
    "\n",
    "# dimensionality reduction\n",
    "from sklearn.decomposition import PCA\n",
    "#from yellowbrick.model_selection import FeatureImportances\n",
    "\n",
    "# evaluation metrics\n",
    "from sklearn import tree\n",
    "from sklearn.metrics import mean_squared_error, mean_absolute_error, r2_score\n",
    "\n",
    "import warnings # supress warnings\n",
    "warnings.filterwarnings('ignore')\n",
    "\n",
    "from sklearn import set_config\n",
    "set_config(transform_output=\"pandas\")\n",
    "\n",
    "sns.set_theme(style='darkgrid')\n",
    "\n",
    "# Deep learning\n",
    "import torch\n",
    "import torch.nn as nn\n",
    "import torch.optim as optim\n",
    "import optuna\n",
    "\n",
    "import warnings\n",
    "warnings.filterwarnings('ignore')\n",
    "\n",
    "\n",
    "import matplotlib as mpl\n",
    "mpl.rcParams['text.usetex'] = False"
   ]
  },
  {
   "cell_type": "code",
   "execution_count": 2,
   "metadata": {},
   "outputs": [],
   "source": [
    "# Set the default text font size\n",
    "plt.rc('font', size=18)\n",
    "# Set the axes title font size\n",
    "plt.rc('axes', titlesize=16)\n",
    "# Set the axes labels font size\n",
    "plt.rc('axes', labelsize=16)\n",
    "# Set the font size for x tick labels\n",
    "plt.rc('xtick', labelsize=14)\n",
    "# Set the font size for y tick labels\n",
    "plt.rc('ytick', labelsize=14)\n",
    "# Set the legend font size\n",
    "plt.rc('legend', fontsize=14)\n",
    "# Set the font size of the figure title\n",
    "plt.rc('figure', titlesize=18)\n",
    "\n",
    "font = {'family' : 'Cambria',\n",
    "        'weight' : 'normal'}\n",
    "plt.rc('font', **font)"
   ]
  },
  {
   "attachments": {},
   "cell_type": "markdown",
   "metadata": {},
   "source": [
    "# Data pre-processing"
   ]
  },
  {
   "cell_type": "code",
   "execution_count": 3,
   "metadata": {},
   "outputs": [],
   "source": [
    "df   = pd.read_csv(\"combined_last.csv\", sep=\",\")   # the file uses “;” as separator\n",
    "df = df[df[\"Mach\"] == 0.15]                      # keep only Mach = 0.85 rows\n"
   ]
  },
  {
   "cell_type": "code",
   "execution_count": 4,
   "metadata": {},
   "outputs": [
    {
     "name": "stdout",
     "output_type": "stream",
     "text": [
      "<class 'pandas.core.frame.DataFrame'>\n",
      "RangeIndex: 150 entries, 0 to 149\n",
      "Data columns (total 7 columns):\n",
      " #   Column             Non-Null Count  Dtype  \n",
      "---  ------             --------------  -----  \n",
      " 0   Mach               150 non-null    float64\n",
      " 1   YoungsModulus3     150 non-null    float64\n",
      " 2   Density1           150 non-null    float64\n",
      " 3   Density3           150 non-null    float64\n",
      " 4   Flutter Speed      150 non-null    float64\n",
      " 5   Mass               150 non-null    float64\n",
      " 6   Flutter Frequency  150 non-null    float64\n",
      "dtypes: float64(7)\n",
      "memory usage: 8.3 KB\n"
     ]
    }
   ],
   "source": [
    "df.info()"
   ]
  },
  {
   "cell_type": "code",
   "execution_count": 5,
   "metadata": {},
   "outputs": [
    {
     "name": "stdout",
     "output_type": "stream",
     "text": [
      "<class 'pandas.core.frame.DataFrame'>\n",
      "RangeIndex: 150 entries, 0 to 149\n",
      "Data columns (total 7 columns):\n",
      " #   Column             Non-Null Count  Dtype  \n",
      "---  ------             --------------  -----  \n",
      " 0   Mach               150 non-null    float64\n",
      " 1   YoungsModulus3     150 non-null    float64\n",
      " 2   Density1           150 non-null    float64\n",
      " 3   Density3           150 non-null    float64\n",
      " 4   Flutter Speed      150 non-null    float64\n",
      " 5   Mass               150 non-null    float64\n",
      " 6   Flutter Frequency  150 non-null    float64\n",
      "dtypes: float64(7)\n",
      "memory usage: 8.3 KB\n"
     ]
    }
   ],
   "source": [
    "# Convert specific columns to float\n",
    "columns_to_convert = [\n",
    "    'YoungsModulus3'\n",
    "]\n",
    "\n",
    "df[columns_to_convert] = df[columns_to_convert].astype(float)\n",
    "\n",
    "# Display the first few rows to verify the conversion\n",
    "df.info()\n"
   ]
  },
  {
   "cell_type": "code",
   "execution_count": 6,
   "metadata": {},
   "outputs": [
    {
     "data": {
      "application/vnd.microsoft.datawrangler.viewer.v0+json": {
       "columns": [
        {
         "name": "index",
         "rawType": "object",
         "type": "string"
        },
        {
         "name": "Mach",
         "rawType": "float64",
         "type": "float"
        },
        {
         "name": "YoungsModulus3",
         "rawType": "float64",
         "type": "float"
        },
        {
         "name": "Density1",
         "rawType": "float64",
         "type": "float"
        },
        {
         "name": "Density3",
         "rawType": "float64",
         "type": "float"
        },
        {
         "name": "Flutter Speed",
         "rawType": "float64",
         "type": "float"
        },
        {
         "name": "Mass",
         "rawType": "float64",
         "type": "float"
        },
        {
         "name": "Flutter Frequency",
         "rawType": "float64",
         "type": "float"
        }
       ],
       "ref": "baa72913-2537-490e-88a4-7c3010f6c0fd",
       "rows": [
        [
         "count",
         "150.0",
         "150.0",
         "150.0",
         "150.0",
         "150.0",
         "150.0",
         "150.0"
        ],
        [
         "mean",
         "0.15",
         "70892283464.56696",
         "929.4268200000001",
         "2794.2741933333336",
         "67.51629524322551",
         "0.35646511533333336",
         "34.59100040273632"
        ],
        [
         "std",
         "2.227884750318713e-16",
         "5250291260.83493",
         "46.84669621867658",
         "87.5945398676584",
         "2.409609644171832",
         "0.009080670730022024",
         "1.2786434254708705"
        ],
        [
         "min",
         "0.15",
         "62000000000.0",
         "850.0",
         "2645.0",
         "63.20017851890447",
         "0.3347787",
         "32.08989459537989"
        ],
        [
         "25%",
         "0.15",
         "66429133858.268",
         "889.00025",
         "2718.54875",
         "65.46713125640306",
         "0.35031085",
         "33.547514293579184"
        ],
        [
         "50%",
         "0.15",
         "71000000000.0",
         "929.3335",
         "2793.7905",
         "67.61429486649516",
         "0.35626665",
         "34.47521511286921"
        ],
        [
         "75%",
         "0.15",
         "75429133858.26776",
         "969.66675",
         "2869.39525",
         "69.55109303293983",
         "0.362871025",
         "35.550819096238875"
        ],
        [
         "max",
         "0.15",
         "80000000000.0",
         "1010.0",
         "2945.0",
         "71.87732257425844",
         "0.3759075",
         "37.36534966966848"
        ]
       ],
       "shape": {
        "columns": 7,
        "rows": 8
       }
      },
      "text/html": [
       "<div>\n",
       "<style scoped>\n",
       "    .dataframe tbody tr th:only-of-type {\n",
       "        vertical-align: middle;\n",
       "    }\n",
       "\n",
       "    .dataframe tbody tr th {\n",
       "        vertical-align: top;\n",
       "    }\n",
       "\n",
       "    .dataframe thead th {\n",
       "        text-align: right;\n",
       "    }\n",
       "</style>\n",
       "<table border=\"1\" class=\"dataframe\">\n",
       "  <thead>\n",
       "    <tr style=\"text-align: right;\">\n",
       "      <th></th>\n",
       "      <th>Mach</th>\n",
       "      <th>YoungsModulus3</th>\n",
       "      <th>Density1</th>\n",
       "      <th>Density3</th>\n",
       "      <th>Flutter Speed</th>\n",
       "      <th>Mass</th>\n",
       "      <th>Flutter Frequency</th>\n",
       "    </tr>\n",
       "  </thead>\n",
       "  <tbody>\n",
       "    <tr>\n",
       "      <th>count</th>\n",
       "      <td>1.500000e+02</td>\n",
       "      <td>1.500000e+02</td>\n",
       "      <td>150.000000</td>\n",
       "      <td>150.000000</td>\n",
       "      <td>150.000000</td>\n",
       "      <td>150.000000</td>\n",
       "      <td>150.000000</td>\n",
       "    </tr>\n",
       "    <tr>\n",
       "      <th>mean</th>\n",
       "      <td>1.500000e-01</td>\n",
       "      <td>7.089228e+10</td>\n",
       "      <td>929.426820</td>\n",
       "      <td>2794.274193</td>\n",
       "      <td>67.516295</td>\n",
       "      <td>0.356465</td>\n",
       "      <td>34.591000</td>\n",
       "    </tr>\n",
       "    <tr>\n",
       "      <th>std</th>\n",
       "      <td>2.227885e-16</td>\n",
       "      <td>5.250291e+09</td>\n",
       "      <td>46.846696</td>\n",
       "      <td>87.594540</td>\n",
       "      <td>2.409610</td>\n",
       "      <td>0.009081</td>\n",
       "      <td>1.278643</td>\n",
       "    </tr>\n",
       "    <tr>\n",
       "      <th>min</th>\n",
       "      <td>1.500000e-01</td>\n",
       "      <td>6.200000e+10</td>\n",
       "      <td>850.000000</td>\n",
       "      <td>2645.000000</td>\n",
       "      <td>63.200179</td>\n",
       "      <td>0.334779</td>\n",
       "      <td>32.089895</td>\n",
       "    </tr>\n",
       "    <tr>\n",
       "      <th>25%</th>\n",
       "      <td>1.500000e-01</td>\n",
       "      <td>6.642913e+10</td>\n",
       "      <td>889.000250</td>\n",
       "      <td>2718.548750</td>\n",
       "      <td>65.467131</td>\n",
       "      <td>0.350311</td>\n",
       "      <td>33.547514</td>\n",
       "    </tr>\n",
       "    <tr>\n",
       "      <th>50%</th>\n",
       "      <td>1.500000e-01</td>\n",
       "      <td>7.100000e+10</td>\n",
       "      <td>929.333500</td>\n",
       "      <td>2793.790500</td>\n",
       "      <td>67.614295</td>\n",
       "      <td>0.356267</td>\n",
       "      <td>34.475215</td>\n",
       "    </tr>\n",
       "    <tr>\n",
       "      <th>75%</th>\n",
       "      <td>1.500000e-01</td>\n",
       "      <td>7.542913e+10</td>\n",
       "      <td>969.666750</td>\n",
       "      <td>2869.395250</td>\n",
       "      <td>69.551093</td>\n",
       "      <td>0.362871</td>\n",
       "      <td>35.550819</td>\n",
       "    </tr>\n",
       "    <tr>\n",
       "      <th>max</th>\n",
       "      <td>1.500000e-01</td>\n",
       "      <td>8.000000e+10</td>\n",
       "      <td>1010.000000</td>\n",
       "      <td>2945.000000</td>\n",
       "      <td>71.877323</td>\n",
       "      <td>0.375908</td>\n",
       "      <td>37.365350</td>\n",
       "    </tr>\n",
       "  </tbody>\n",
       "</table>\n",
       "</div>"
      ],
      "text/plain": [
       "               Mach  YoungsModulus3     Density1     Density3  Flutter Speed  \\\n",
       "count  1.500000e+02    1.500000e+02   150.000000   150.000000     150.000000   \n",
       "mean   1.500000e-01    7.089228e+10   929.426820  2794.274193      67.516295   \n",
       "std    2.227885e-16    5.250291e+09    46.846696    87.594540       2.409610   \n",
       "min    1.500000e-01    6.200000e+10   850.000000  2645.000000      63.200179   \n",
       "25%    1.500000e-01    6.642913e+10   889.000250  2718.548750      65.467131   \n",
       "50%    1.500000e-01    7.100000e+10   929.333500  2793.790500      67.614295   \n",
       "75%    1.500000e-01    7.542913e+10   969.666750  2869.395250      69.551093   \n",
       "max    1.500000e-01    8.000000e+10  1010.000000  2945.000000      71.877323   \n",
       "\n",
       "             Mass  Flutter Frequency  \n",
       "count  150.000000         150.000000  \n",
       "mean     0.356465          34.591000  \n",
       "std      0.009081           1.278643  \n",
       "min      0.334779          32.089895  \n",
       "25%      0.350311          33.547514  \n",
       "50%      0.356267          34.475215  \n",
       "75%      0.362871          35.550819  \n",
       "max      0.375908          37.365350  "
      ]
     },
     "execution_count": 6,
     "metadata": {},
     "output_type": "execute_result"
    }
   ],
   "source": [
    "df.describe()"
   ]
  },
  {
   "cell_type": "code",
   "execution_count": 7,
   "metadata": {},
   "outputs": [
    {
     "name": "stdout",
     "output_type": "stream",
     "text": [
      "Input shape:  (150, 3)\n",
      "Output shape:  (150, 1)\n"
     ]
    }
   ],
   "source": [
    "# prepare X and y\n",
    "X = df[['YoungsModulus3','Density1','Density3']]\n",
    "y = df[['Flutter Speed']]\n",
    "\n",
    "# print\n",
    "print('Input shape: ', X.shape)\n",
    "print('Output shape: ', y.shape)"
   ]
  },
  {
   "cell_type": "code",
   "execution_count": 8,
   "metadata": {},
   "outputs": [
    {
     "name": "stdout",
     "output_type": "stream",
     "text": [
      "Original X shape: (150, 3)\n",
      "Cleaned X shape: (135, 3)\n",
      "Original y shape: (150, 1)\n",
      "Cleaned y shape: (135, 1)\n"
     ]
    }
   ],
   "source": [
    "from sklearn.ensemble import IsolationForest\n",
    "\n",
    "def clean_outliers(X, y, contamination=0.1):\n",
    "    # Combine X and y for outlier detection\n",
    "    data = pd.concat([X, y], axis=1)\n",
    "\n",
    "    # Fit the model\n",
    "    clf = IsolationForest(contamination=contamination, random_state=42)\n",
    "    clf.fit(data)\n",
    "\n",
    "    # Predict the outliers\n",
    "    y_pred = clf.predict(data)\n",
    "\n",
    "    # Filter the data\n",
    "    mask = y_pred != -1\n",
    "    X_clean = X[mask]\n",
    "    y_clean = y[mask]\n",
    "\n",
    "    return X_clean, y_clean\n",
    "\n",
    "# Clean outliers from X and y\n",
    "X_clean, y_clean = clean_outliers(X, y, contamination=0.1)\n",
    "\n",
    "print(f\"Original X shape: {X.shape}\")\n",
    "print(f\"Cleaned X shape: {X_clean.shape}\")\n",
    "print(f\"Original y shape: {y.shape}\")\n",
    "print(f\"Cleaned y shape: {y_clean.shape}\")"
   ]
  },
  {
   "cell_type": "code",
   "execution_count": 9,
   "metadata": {},
   "outputs": [
    {
     "data": {
      "image/png": "[encoded data removed]",
      "text/plain": [
       "<Figure size 1000x600 with 1 Axes>"
      ]
     },
     "metadata": {},
     "output_type": "display_data"
    }
   ],
   "source": [
    "# Plot box plot for the y output\n",
    "plt.figure(figsize=(10, 6))\n",
    "plt.boxplot(y, vert=False)\n",
    "plt.title('Box Plot of Output Data')\n",
    "plt.xlabel('Value')\n",
    "plt.ylabel('Output')\n",
    "plt.show()"
   ]
  },
  {
   "cell_type": "code",
   "execution_count": 10,
   "metadata": {},
   "outputs": [
    {
     "data": {
      "image/png": "[encoded data removed]",
      "text/plain": [
       "<Figure size 1000x600 with 1 Axes>"
      ]
     },
     "metadata": {},
     "output_type": "display_data"
    }
   ],
   "source": [
    "# Plot box plot for the y output\n",
    "plt.figure(figsize=(10, 6))\n",
    "plt.boxplot(y_clean, vert=False)\n",
    "plt.title('Box Plot of Cleaned Output Data')\n",
    "plt.xlabel('Value')\n",
    "plt.ylabel('Output')\n",
    "plt.show()"
   ]
  },
  {
   "cell_type": "code",
   "execution_count": 11,
   "metadata": {},
   "outputs": [],
   "source": [
    "X, y = X_clean, y_clean"
   ]
  },
  {
   "cell_type": "code",
   "execution_count": 12,
   "metadata": {},
   "outputs": [
    {
     "name": "stderr",
     "output_type": "stream",
     "text": [
      "[I 2025-06-16 07:40:21,605] A new study created in memory with name: no-name-31831003-8669-4b1b-b745-c454b5830b47\n",
      "[I 2025-06-16 07:40:21,623] Trial 0 finished with value: 0.09178944907793207 and parameters: {'C': 0.0023185301424879065, 'epsilon': 0.0005245458035906807, 'gamma': 8.934116299632729}. Best is trial 0 with value: 0.09178944907793207.\n",
      "[I 2025-06-16 07:40:21,639] Trial 1 finished with value: 0.9999567882576342 and parameters: {'C': 3865.80718539247, 'epsilon': 0.0033575250779052015, 'gamma': 0.0020189428192863897}. Best is trial 1 with value: 0.9999567882576342.\n",
      "[I 2025-06-16 07:40:21,661] Trial 2 finished with value: 0.9994155174090393 and parameters: {'C': 0.834231363582194, 'epsilon': 0.00031936083471062075, 'gamma': 4.058590133715178}. Best is trial 1 with value: 0.9999567882576342.\n",
      "[I 2025-06-16 07:40:21,672] Trial 3 finished with value: 0.9993013086684162 and parameters: {'C': 1.8356621635896355, 'epsilon': 0.004958583258891782, 'gamma': 0.4204461552875051}. Best is trial 1 with value: 0.9999567882576342.\n",
      "[I 2025-06-16 07:40:21,684] Trial 4 finished with value: 0.9898150558445026 and parameters: {'C': 10.41249881231245, 'epsilon': 0.051651443104805295, 'gamma': 0.05760953347194809}. Best is trial 1 with value: 0.9999567882576342.\n",
      "[I 2025-06-16 07:40:21,689] Trial 5 finished with value: -0.016605759699621414 and parameters: {'C': 0.0006339592417578175, 'epsilon': 0.003344315092216686, 'gamma': 0.0004017753819690993}. Best is trial 1 with value: 0.9999567882576342.\n",
      "[I 2025-06-16 07:40:21,705] Trial 6 finished with value: 0.999490894917795 and parameters: {'C': 384.3373386768131, 'epsilon': 0.013704228029663028, 'gamma': 0.005157331443054479}. Best is trial 1 with value: 0.9999567882576342.\n",
      "[I 2025-06-16 07:40:21,722] Trial 7 finished with value: 0.9990167935952565 and parameters: {'C': 51.64731464808464, 'epsilon': 0.005856427577200958, 'gamma': 0.0009241520774144119}. Best is trial 1 with value: 0.9999567882576342.\n",
      "[I 2025-06-16 07:40:21,731] Trial 8 finished with value: 0.999407176523665 and parameters: {'C': 407.949714937812, 'epsilon': 0.0006789519991299066, 'gamma': 0.00065686015240681}. Best is trial 1 with value: 0.9999567882576342.\n",
      "[I 2025-06-16 07:40:21,747] Trial 9 finished with value: 0.27149147360163073 and parameters: {'C': 26.190007351637025, 'epsilon': 0.00015551779121688195, 'gamma': 0.00011891051932436576}. Best is trial 1 with value: 0.9999567882576342.\n",
      "[I 2025-06-16 07:40:21,772] Trial 10 finished with value: -0.023020166340839365 and parameters: {'C': 3018.5638111326243, 'epsilon': 1.3491001147738055, 'gamma': 0.017590039185003105}. Best is trial 1 with value: 0.9999567882576342.\n",
      "[I 2025-06-16 07:40:21,790] Trial 11 finished with value: 0.9450404755388471 and parameters: {'C': 7571.38621106095, 'epsilon': 0.10968750582392933, 'gamma': 0.01223338530703996}. Best is trial 1 with value: 0.9999567882576342.\n",
      "[I 2025-06-16 07:40:21,822] Trial 12 finished with value: -0.013604027996144463 and parameters: {'C': 0.08052154597314581, 'epsilon': 0.2070230950822708, 'gamma': 0.0020854440929578446}. Best is trial 1 with value: 0.9999567882576342.\n",
      "[I 2025-06-16 07:40:21,839] Trial 13 finished with value: 0.9995749166156822 and parameters: {'C': 455.05502096749035, 'epsilon': 0.012695585158321589, 'gamma': 0.004687182607371412}. Best is trial 1 with value: 0.9999567882576342.\n",
      "[I 2025-06-16 07:40:21,872] Trial 14 finished with value: -0.023020166340839365 and parameters: {'C': 748.4663464617294, 'epsilon': 6.414453286082833, 'gamma': 0.08276515222987038}. Best is trial 1 with value: 0.9999567882576342.\n",
      "[I 2025-06-16 07:40:21,906] Trial 15 finished with value: 0.9999895864582523 and parameters: {'C': 8829.959853465349, 'epsilon': 0.0017468398909329212, 'gamma': 0.004042815914778587}. Best is trial 15 with value: 0.9999895864582523.\n",
      "[I 2025-06-16 07:40:21,930] Trial 16 finished with value: 0.7038870297403266 and parameters: {'C': 0.03783143400995993, 'epsilon': 0.0009146390043313242, 'gamma': 0.2876940899806261}. Best is trial 15 with value: 0.9999895864582523.\n",
      "[I 2025-06-16 07:40:21,962] Trial 17 finished with value: 0.999396982521029 and parameters: {'C': 5473.874546306542, 'epsilon': 0.001856112367400259, 'gamma': 0.00010073281852694181}. Best is trial 15 with value: 0.9999895864582523.\n",
      "[I 2025-06-16 07:40:21,989] Trial 18 finished with value: 0.9993496329395684 and parameters: {'C': 56.35622992600288, 'epsilon': 0.00012361671059227887, 'gamma': 0.0026370766123913853}. Best is trial 15 with value: 0.9999895864582523.\n",
      "[I 2025-06-16 07:40:22,005] Trial 19 finished with value: 0.9990480190872053 and parameters: {'C': 8783.05392405583, 'epsilon': 0.02482706052449015, 'gamma': 0.0003528110089623226}. Best is trial 15 with value: 0.9999895864582523.\n",
      "[I 2025-06-16 07:40:22,039] Trial 20 finished with value: 0.2104610095356737 and parameters: {'C': 2.8827239031017617, 'epsilon': 0.4152791309555259, 'gamma': 0.010395365632152606}. Best is trial 15 with value: 0.9999895864582523.\n",
      "[I 2025-06-16 07:40:22,072] Trial 21 finished with value: 0.9996478922978411 and parameters: {'C': 860.1481595326012, 'epsilon': 0.010878148546913977, 'gamma': 0.0028828630803781332}. Best is trial 15 with value: 0.9999895864582523.\n",
      "[I 2025-06-16 07:40:22,105] Trial 22 finished with value: 0.9996764261575702 and parameters: {'C': 1183.6188085584918, 'epsilon': 0.0018961040267501193, 'gamma': 0.0013233785913093889}. Best is trial 15 with value: 0.9999895864582523.\n",
      "[I 2025-06-16 07:40:22,137] Trial 23 finished with value: 0.9995501541707659 and parameters: {'C': 1297.6602458390928, 'epsilon': 0.0018253544676561711, 'gamma': 0.0008848023075821918}. Best is trial 15 with value: 0.9999895864582523.\n",
      "[I 2025-06-16 07:40:22,162] Trial 24 finished with value: 0.9999786939683979 and parameters: {'C': 183.91887801048028, 'epsilon': 0.001616853165312807, 'gamma': 0.034778510625477606}. Best is trial 15 with value: 0.9999895864582523.\n",
      "[I 2025-06-16 07:40:22,217] Trial 25 finished with value: 0.9999877375473358 and parameters: {'C': 127.17395819533627, 'epsilon': 0.0002531296019303019, 'gamma': 0.04657969471421711}. Best is trial 15 with value: 0.9999895864582523.\n",
      "[I 2025-06-16 07:40:22,265] Trial 26 finished with value: 0.9999981047606585 and parameters: {'C': 134.35191996885075, 'epsilon': 0.00018862920801842936, 'gamma': 0.18316205357877616}. Best is trial 26 with value: 0.9999981047606585.\n",
      "[I 2025-06-16 07:40:22,289] Trial 27 finished with value: 0.9993415924640255 and parameters: {'C': 0.3357878615815331, 'epsilon': 0.0002490371267284918, 'gamma': 0.20240167893376274}. Best is trial 26 with value: 0.9999981047606585.\n",
      "[I 2025-06-16 07:40:22,338] Trial 28 finished with value: 0.9999883378640663 and parameters: {'C': 9.087340186472888, 'epsilon': 0.0002705075224140501, 'gamma': 0.7210386275771867}. Best is trial 26 with value: 0.9999981047606585.\n",
      "[I 2025-06-16 07:40:22,384] Trial 29 finished with value: 0.9999739314697769 and parameters: {'C': 16.0551659705157, 'epsilon': 0.000506382006108781, 'gamma': 2.124845336344777}. Best is trial 26 with value: 0.9999981047606585.\n",
      "[I 2025-06-16 07:40:22,432] Trial 30 finished with value: 0.9999815899231409 and parameters: {'C': 4.93720778808467, 'epsilon': 0.0001239020741085808, 'gamma': 0.826676110699003}. Best is trial 26 with value: 0.9999981047606585.\n",
      "[I 2025-06-16 07:40:22,489] Trial 31 finished with value: 0.9999970150989975 and parameters: {'C': 103.68617094247254, 'epsilon': 0.00032408541752146797, 'gamma': 0.1265393226945019}. Best is trial 26 with value: 0.9999981047606585.\n",
      "[I 2025-06-16 07:40:22,540] Trial 32 finished with value: 0.9999935246809049 and parameters: {'C': 104.44049671253185, 'epsilon': 0.0005542841294704452, 'gamma': 0.12864436552423472}. Best is trial 26 with value: 0.9999981047606585.\n",
      "[I 2025-06-16 07:40:22,586] Trial 33 finished with value: 0.9999925578477006 and parameters: {'C': 85.12936069592217, 'epsilon': 0.0006264215675113369, 'gamma': 0.14793322387003566}. Best is trial 26 with value: 0.9999981047606585.\n",
      "[I 2025-06-16 07:40:22,622] Trial 34 finished with value: 0.9999937636419071 and parameters: {'C': 93.57297329666095, 'epsilon': 0.0005401582819733517, 'gamma': 0.15444074182896086}. Best is trial 26 with value: 0.9999981047606585.\n",
      "[I 2025-06-16 07:40:22,656] Trial 35 finished with value: 0.999173173984864 and parameters: {'C': 0.333748745751636, 'epsilon': 0.00047300474329276443, 'gamma': 0.10599865768468078}. Best is trial 26 with value: 0.9999981047606585.\n",
      "[I 2025-06-16 07:40:22,739] Trial 36 finished with value: 0.99999492204483 and parameters: {'C': 28.67294830812208, 'epsilon': 0.00010020128970199846, 'gamma': 1.549208085005435}. Best is trial 26 with value: 0.9999981047606585.\n",
      "[I 2025-06-16 07:40:22,772] Trial 37 finished with value: 0.9988634267606556 and parameters: {'C': 32.35548323499958, 'epsilon': 0.0001255396362998045, 'gamma': 6.690637009258466}. Best is trial 26 with value: 0.9999981047606585.\n",
      "[I 2025-06-16 07:40:22,806] Trial 38 finished with value: 0.9996849128793001 and parameters: {'C': 1.099131639951432, 'epsilon': 0.00010011318649959316, 'gamma': 2.08108295670264}. Best is trial 26 with value: 0.9999981047606585.\n",
      "[I 2025-06-16 07:40:22,849] Trial 39 finished with value: 0.9999860927513361 and parameters: {'C': 206.6422936189282, 'epsilon': 0.0009680235102436104, 'gamma': 0.4729272257354388}. Best is trial 26 with value: 0.9999981047606585.\n",
      "[I 2025-06-16 07:40:22,873] Trial 40 finished with value: -0.008195678989107114 and parameters: {'C': 0.00011244321557745216, 'epsilon': 0.004995820428751857, 'gamma': 1.6801700841497746}. Best is trial 26 with value: 0.9999981047606585.\n",
      "[I 2025-06-16 07:40:22,905] Trial 41 finished with value: 0.9999714884404238 and parameters: {'C': 8.840848215496276, 'epsilon': 0.00026707407481136897, 'gamma': 0.27339798891694445}. Best is trial 26 with value: 0.9999981047606585.\n",
      "[I 2025-06-16 07:40:22,963] Trial 42 finished with value: 0.999982271924565 and parameters: {'C': 82.55684013186536, 'epsilon': 0.00037515435204904784, 'gamma': 0.06650890410757912}. Best is trial 26 with value: 0.9999981047606585.\n",
      "[I 2025-06-16 07:40:23,019] Trial 43 finished with value: 0.9999835222007978 and parameters: {'C': 32.634045325350776, 'epsilon': 0.0009239613998221273, 'gamma': 0.93951719332791}. Best is trial 26 with value: 0.9999981047606585.\n",
      "[I 2025-06-16 07:40:23,072] Trial 44 finished with value: 0.999989538209951 and parameters: {'C': 242.67939862038176, 'epsilon': 0.00019284155991447955, 'gamma': 0.02213295809212915}. Best is trial 26 with value: 0.9999981047606585.\n",
      "[I 2025-06-16 07:40:23,110] Trial 45 finished with value: 0.999929683141051 and parameters: {'C': 2387.9559089390686, 'epsilon': 0.0028347987003728005, 'gamma': 0.4096081629124752}. Best is trial 26 with value: 0.9999981047606585.\n",
      "[I 2025-06-16 07:40:23,139] Trial 46 finished with value: 0.9999591005761471 and parameters: {'C': 24.04194065736829, 'epsilon': 0.0003636457782269487, 'gamma': 0.1363232325483765}. Best is trial 26 with value: 0.9999981047606585.\n",
      "[I 2025-06-16 07:40:23,183] Trial 47 finished with value: 0.9996812858854572 and parameters: {'C': 353.4472422960789, 'epsilon': 0.0010174448365498012, 'gamma': 4.646281052298025}. Best is trial 26 with value: 0.9999981047606585.\n",
      "[I 2025-06-16 07:40:23,206] Trial 48 finished with value: 0.5257736859490322 and parameters: {'C': 0.009295459479560618, 'epsilon': 0.0001594293077655095, 'gamma': 1.3582974239664214}. Best is trial 26 with value: 0.9999981047606585.\n",
      "[I 2025-06-16 07:40:23,239] Trial 49 finished with value: 0.9996809927222681 and parameters: {'C': 3.394189532424334, 'epsilon': 0.0006317283365413979, 'gamma': 0.1989355007739446}. Best is trial 26 with value: 0.9999981047606585.\n"
     ]
    },
    {
     "name": "stdout",
     "output_type": "stream",
     "text": [
      "Best params → {'C': 134.35191996885075, 'epsilon': 0.00018862920801842936, 'gamma': 0.18316205357877616}\n",
      "Train R²: 1.0000\n",
      "Test  R²: 1.0000\n"
     ]
    }
   ],
   "source": [
    "import numpy as np\n",
    "import pandas as pd\n",
    "import optuna\n",
    "from sklearn.model_selection import train_test_split\n",
    "from sklearn.preprocessing import MinMaxScaler\n",
    "from sklearn.svm import SVR\n",
    "from sklearn.pipeline import Pipeline\n",
    "from sklearn.compose import TransformedTargetRegressor\n",
    "from sklearn.metrics import r2_score\n",
    "\n",
    "# ------------------------------------------------------------------\n",
    "# 1) split data\n",
    "# ------------------------------------------------------------------\n",
    "X_train, X_test, y_train, y_test = train_test_split(\n",
    "    X, y.squeeze(),           # <-- make sure y is 1-D\n",
    "    test_size=0.20,\n",
    "    shuffle=True,\n",
    "    random_state=42\n",
    ")\n",
    "\n",
    "# ------------------------------------------------------------------\n",
    "# 2) helper that builds the end-to-end estimator\n",
    "#    (X-scaler → SVR)   + automatic y-scaler\n",
    "# ------------------------------------------------------------------\n",
    "def build_model(C, epsilon, gamma):\n",
    "    inner = Pipeline(\n",
    "        [\n",
    "            (\"x_scaler\", MinMaxScaler()),\n",
    "            (\"svr\", SVR(C=C, epsilon=epsilon, gamma=gamma)),\n",
    "        ]\n",
    "    )\n",
    "\n",
    "    # scales / inverse-scales the *target* transparently\n",
    "    return TransformedTargetRegressor(\n",
    "        regressor=inner,\n",
    "        transformer=MinMaxScaler()\n",
    "    )\n",
    "\n",
    "# ------------------------------------------------------------------\n",
    "# 3) Optuna objective\n",
    "# ------------------------------------------------------------------\n",
    "def objective(trial):\n",
    "    params = {\n",
    "        \"C\":       trial.suggest_loguniform(\"C\",       1e-4, 1e4),\n",
    "        \"epsilon\": trial.suggest_loguniform(\"epsilon\", 1e-4, 1e1),\n",
    "        \"gamma\":   trial.suggest_loguniform(\"gamma\",   1e-4, 1e1),\n",
    "    }\n",
    "\n",
    "    model = build_model(**params)\n",
    "    model.fit(X_train, y_train)          # scaled in / scaled out\n",
    "\n",
    "    y_pred = model.predict(X_test)\n",
    "    return r2_score(y_test, y_pred)\n",
    "\n",
    "# ------------------------------------------------------------------\n",
    "# 4) hyper-parameter search\n",
    "# ------------------------------------------------------------------\n",
    "study = optuna.create_study(direction=\"maximize\",\n",
    "                            sampler=optuna.samplers.TPESampler())\n",
    "study.optimize(objective, n_trials=50)\n",
    "print(\"Best params →\", study.best_params)\n",
    "\n",
    "# ------------------------------------------------------------------\n",
    "# 5) final fit & report\n",
    "# ------------------------------------------------------------------\n",
    "best_model = build_model(**study.best_params)\n",
    "best_model.fit(X_train, y_train)\n",
    "\n",
    "print(f\"Train R²: {r2_score(y_train, best_model.predict(X_train)):.4f}\")\n",
    "print(f\"Test  R²: {r2_score(y_test , best_model.predict(X_test )):.4f}\")\n"
   ]
  },
  {
   "cell_type": "code",
   "execution_count": 13,
   "metadata": {},
   "outputs": [
    {
     "name": "stdout",
     "output_type": "stream",
     "text": [
      "Predicted Flutter Speed: 70.04815833411793\n"
     ]
    }
   ],
   "source": [
    "# ------------------------------------------------------------------\n",
    "# 6) example inference\n",
    "# ------------------------------------------------------------------\n",
    "query = pd.DataFrame(\n",
    "    {\n",
    "        \"YoungsModulus3\": [76740157480.315],\n",
    "        \"Density1\": [964.0],\n",
    "        \"Density3\": [2729.677],\n",
    "    }\n",
    ")\n",
    "print(\"Predicted Flutter Speed:\", best_model.predict(query).item())"
   ]
  },
  {
   "cell_type": "code",
   "execution_count": 16,
   "metadata": {},
   "outputs": [
    {
     "data": {
      "image/png": "[encoded data removed]",
      "text/plain": [
       "<Figure size 800x600 with 1 Axes>"
      ]
     },
     "metadata": {},
     "output_type": "display_data"
    }
   ],
   "source": [
    "import matplotlib.pyplot as plt\n",
    "from sklearn.metrics import r2_score\n",
    "\n",
    "# predictions are already in original units with the new pipeline\n",
    "y_train_pred = best_model.predict(X_train)\n",
    "y_test_pred  = best_model.predict(X_test)\n",
    "\n",
    "# 1-to-1 reference line\n",
    "lims = [\n",
    "    min(y_train.min(), y_test.min(), y_train_pred.min(), y_test_pred.min()),\n",
    "    max(y_train.max(), y_test.max(), y_train_pred.max(), y_test_pred.max()),\n",
    "]\n",
    "\n",
    "plt.figure(figsize=(8, 6))\n",
    "plt.plot(lims, lims, \"k--\", alpha=0.7, label=\"Ideal\")\n",
    "\n",
    "plt.scatter(y_train, y_train_pred,  s=30, c=\"tab:blue\",   edgecolors=\"k\", label=\"Train\")\n",
    "plt.scatter(y_test , y_test_pred ,  s=30, c=\"tab:orange\", edgecolors=\"k\", label=\"Test\")\n",
    "\n",
    "plt.xlim(lims); plt.ylim(lims)\n",
    "plt.xlabel(\"True Flutter Speed\")\n",
    "plt.ylabel(\"Predicted Flutter Speed\")\n",
    "plt.title(\"Flutter Model\")\n",
    "#plt.title(\n",
    "#    f\"Flutter Speed surrogate: R² train = {r2_score(y_train, y_train_pred):.3f} · \"\n",
    "#    f\"R² test = {r2_score(y_test , y_test_pred ):.3f}\"\n",
    "#)\n",
    "plt.legend(frameon=False)\n",
    "plt.tight_layout()\n",
    "plt.show()\n"
   ]
  },
  {
   "cell_type": "code",
   "execution_count": 15,
   "metadata": {},
   "outputs": [
    {
     "data": {
      "text/plain": [
       "['flutter_svr_pipeline.pkl']"
      ]
     },
     "execution_count": 15,
     "metadata": {},
     "output_type": "execute_result"
    }
   ],
   "source": [
    "import joblib\n",
    "\n",
    "# `best_model` is the single TransformedTargetRegressor that already\n",
    "# contains the X-scaler and the SVR inside.\n",
    "joblib.dump(best_model, \"flutter_svr_pipeline.pkl\")\n",
    "\n",
    "# … later …\n",
    "# best_model = joblib.load(\"mass_svr_pipeline.pkl\")\n",
    "# y_hat      = best_model.predict(new_X)\n"
   ]
  }
 ],
 "metadata": {
  "kernelspec": {
   "display_name": "base",
   "language": "python",
   "name": "python3"
  },
  "language_info": {
   "codemirror_mode": {
    "name": "ipython",
    "version": 3
   },
   "file_extension": ".py",
   "mimetype": "text/x-python",
   "name": "python",
   "nbconvert_exporter": "python",
   "pygments_lexer": "ipython3",
   "version": "3.12.7"
  },
  "orig_nbformat": 4
 },
 "nbformat": 4,
 "nbformat_minor": 2
}
